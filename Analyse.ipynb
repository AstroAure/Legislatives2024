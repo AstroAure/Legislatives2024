{
 "cells": [
  {
   "cell_type": "code",
   "execution_count": 1,
   "metadata": {},
   "outputs": [],
   "source": [
    "import pandas as pd\n",
    "import numpy as np\n",
    "import matplotlib.pyplot as plt"
   ]
  },
  {
   "cell_type": "code",
   "execution_count": 2,
   "metadata": {},
   "outputs": [],
   "source": [
    "data_results = pd.read_csv(\"results_legislatives_2024_T1.csv\")\n",
    "data_stats = pd.read_csv(\"stats_legislatives_2024_T1.csv\")"
   ]
  },
  {
   "cell_type": "markdown",
   "metadata": {},
   "source": [
    "## Stats nationales"
   ]
  },
  {
   "cell_type": "code",
   "execution_count": 3,
   "metadata": {},
   "outputs": [
    {
     "name": "stdout",
     "output_type": "stream",
     "text": [
      "Inscrits totaux nationaux : 49332761\n",
      "Exprimés totaux nationaux : 32060277\n",
      "Participation : 64.99%\n"
     ]
    }
   ],
   "source": [
    "inscrits = data_stats[data_stats['Type']=='Inscrits']['Nombre'].sum()\n",
    "exprimes = data_stats[data_stats['Type']=='Exprimés']['Nombre'].sum()\n",
    "participation = exprimes/inscrits\n",
    "\n",
    "print(f\"Inscrits totaux nationaux : {inscrits}\")\n",
    "print(f\"Exprimés totaux nationaux : {exprimes}\")\n",
    "print(f\"Participation : {participation*100:.2f}%\")"
   ]
  },
  {
   "cell_type": "markdown",
   "metadata": {},
   "source": [
    "## Résultats nationaux"
   ]
  },
  {
   "cell_type": "code",
   "execution_count": 4,
   "metadata": {},
   "outputs": [
    {
     "data": {
      "text/plain": [
       "array(['COM', 'DIV', 'DSV', 'DVC', 'DVD', 'DVG', 'ECO', 'ENS', 'EXD',\n",
       "       'EXG', 'FI', 'HOR', 'LR', 'RDG', 'REC', 'REG', 'RN', 'SOC', 'UDI',\n",
       "       'UG', 'UXD', 'VEC'], dtype=object)"
      ]
     },
     "execution_count": 4,
     "metadata": {},
     "output_type": "execute_result"
    }
   ],
   "source": [
    "nuances = np.unique(data_results['Nuance'])\n",
    "nuances"
   ]
  },
  {
   "cell_type": "code",
   "execution_count": 5,
   "metadata": {},
   "outputs": [
    {
     "data": {
      "text/html": [
       "<div>\n",
       "<style scoped>\n",
       "    .dataframe tbody tr th:only-of-type {\n",
       "        vertical-align: middle;\n",
       "    }\n",
       "\n",
       "    .dataframe tbody tr th {\n",
       "        vertical-align: top;\n",
       "    }\n",
       "\n",
       "    .dataframe thead th {\n",
       "        text-align: right;\n",
       "    }\n",
       "</style>\n",
       "<table border=\"1\" class=\"dataframe\">\n",
       "  <thead>\n",
       "    <tr style=\"text-align: right;\">\n",
       "      <th></th>\n",
       "      <th>Voix</th>\n",
       "      <th>% Inscrits</th>\n",
       "      <th>% Exprimés</th>\n",
       "      <th>Sièges</th>\n",
       "    </tr>\n",
       "    <tr>\n",
       "      <th>Nuance</th>\n",
       "      <th></th>\n",
       "      <th></th>\n",
       "      <th></th>\n",
       "      <th></th>\n",
       "    </tr>\n",
       "  </thead>\n",
       "  <tbody>\n",
       "    <tr>\n",
       "      <th>RN</th>\n",
       "      <td>9377297</td>\n",
       "      <td>19.008255</td>\n",
       "      <td>29.248958</td>\n",
       "      <td>37</td>\n",
       "    </tr>\n",
       "    <tr>\n",
       "      <th>UG</th>\n",
       "      <td>8974566</td>\n",
       "      <td>18.191899</td>\n",
       "      <td>27.992790</td>\n",
       "      <td>32</td>\n",
       "    </tr>\n",
       "    <tr>\n",
       "      <th>ENS</th>\n",
       "      <td>6425217</td>\n",
       "      <td>13.024240</td>\n",
       "      <td>20.041053</td>\n",
       "      <td>2</td>\n",
       "    </tr>\n",
       "    <tr>\n",
       "      <th>LR</th>\n",
       "      <td>2104918</td>\n",
       "      <td>4.266775</td>\n",
       "      <td>6.565502</td>\n",
       "      <td>1</td>\n",
       "    </tr>\n",
       "    <tr>\n",
       "      <th>UXD</th>\n",
       "      <td>1251210</td>\n",
       "      <td>2.536266</td>\n",
       "      <td>3.902680</td>\n",
       "      <td>1</td>\n",
       "    </tr>\n",
       "    <tr>\n",
       "      <th>DVD</th>\n",
       "      <td>1172548</td>\n",
       "      <td>2.376814</td>\n",
       "      <td>3.657323</td>\n",
       "      <td>2</td>\n",
       "    </tr>\n",
       "    <tr>\n",
       "      <th>DVG</th>\n",
       "      <td>491069</td>\n",
       "      <td>0.995422</td>\n",
       "      <td>1.531705</td>\n",
       "      <td>0</td>\n",
       "    </tr>\n",
       "    <tr>\n",
       "      <th>DVC</th>\n",
       "      <td>391408</td>\n",
       "      <td>0.793404</td>\n",
       "      <td>1.220850</td>\n",
       "      <td>0</td>\n",
       "    </tr>\n",
       "    <tr>\n",
       "      <th>EXG</th>\n",
       "      <td>367158</td>\n",
       "      <td>0.744248</td>\n",
       "      <td>1.145212</td>\n",
       "      <td>0</td>\n",
       "    </tr>\n",
       "    <tr>\n",
       "      <th>REG</th>\n",
       "      <td>335823</td>\n",
       "      <td>0.680730</td>\n",
       "      <td>1.047474</td>\n",
       "      <td>0</td>\n",
       "    </tr>\n",
       "    <tr>\n",
       "      <th>REC</th>\n",
       "      <td>240006</td>\n",
       "      <td>0.486504</td>\n",
       "      <td>0.748609</td>\n",
       "      <td>0</td>\n",
       "    </tr>\n",
       "    <tr>\n",
       "      <th>HOR</th>\n",
       "      <td>231667</td>\n",
       "      <td>0.469601</td>\n",
       "      <td>0.722598</td>\n",
       "      <td>0</td>\n",
       "    </tr>\n",
       "    <tr>\n",
       "      <th>ECO</th>\n",
       "      <td>181989</td>\n",
       "      <td>0.368901</td>\n",
       "      <td>0.567646</td>\n",
       "      <td>0</td>\n",
       "    </tr>\n",
       "    <tr>\n",
       "      <th>UDI</th>\n",
       "      <td>163072</td>\n",
       "      <td>0.330555</td>\n",
       "      <td>0.508642</td>\n",
       "      <td>0</td>\n",
       "    </tr>\n",
       "    <tr>\n",
       "      <th>DIV</th>\n",
       "      <td>142866</td>\n",
       "      <td>0.289597</td>\n",
       "      <td>0.445617</td>\n",
       "      <td>0</td>\n",
       "    </tr>\n",
       "    <tr>\n",
       "      <th>DSV</th>\n",
       "      <td>90090</td>\n",
       "      <td>0.182617</td>\n",
       "      <td>0.281002</td>\n",
       "      <td>0</td>\n",
       "    </tr>\n",
       "    <tr>\n",
       "      <th>EXD</th>\n",
       "      <td>59679</td>\n",
       "      <td>0.120972</td>\n",
       "      <td>0.186146</td>\n",
       "      <td>1</td>\n",
       "    </tr>\n",
       "    <tr>\n",
       "      <th>SOC</th>\n",
       "      <td>29242</td>\n",
       "      <td>0.059275</td>\n",
       "      <td>0.091209</td>\n",
       "      <td>0</td>\n",
       "    </tr>\n",
       "    <tr>\n",
       "      <th>RDG</th>\n",
       "      <td>12434</td>\n",
       "      <td>0.025204</td>\n",
       "      <td>0.038783</td>\n",
       "      <td>0</td>\n",
       "    </tr>\n",
       "    <tr>\n",
       "      <th>FI</th>\n",
       "      <td>12223</td>\n",
       "      <td>0.024777</td>\n",
       "      <td>0.038125</td>\n",
       "      <td>0</td>\n",
       "    </tr>\n",
       "    <tr>\n",
       "      <th>COM</th>\n",
       "      <td>3125</td>\n",
       "      <td>0.006335</td>\n",
       "      <td>0.009747</td>\n",
       "      <td>0</td>\n",
       "    </tr>\n",
       "    <tr>\n",
       "      <th>VEC</th>\n",
       "      <td>2668</td>\n",
       "      <td>0.005408</td>\n",
       "      <td>0.008322</td>\n",
       "      <td>0</td>\n",
       "    </tr>\n",
       "  </tbody>\n",
       "</table>\n",
       "</div>"
      ],
      "text/plain": [
       "           Voix  % Inscrits  % Exprimés  Sièges\n",
       "Nuance                                         \n",
       "RN      9377297   19.008255   29.248958      37\n",
       "UG      8974566   18.191899   27.992790      32\n",
       "ENS     6425217   13.024240   20.041053       2\n",
       "LR      2104918    4.266775    6.565502       1\n",
       "UXD     1251210    2.536266    3.902680       1\n",
       "DVD     1172548    2.376814    3.657323       2\n",
       "DVG      491069    0.995422    1.531705       0\n",
       "DVC      391408    0.793404    1.220850       0\n",
       "EXG      367158    0.744248    1.145212       0\n",
       "REG      335823    0.680730    1.047474       0\n",
       "REC      240006    0.486504    0.748609       0\n",
       "HOR      231667    0.469601    0.722598       0\n",
       "ECO      181989    0.368901    0.567646       0\n",
       "UDI      163072    0.330555    0.508642       0\n",
       "DIV      142866    0.289597    0.445617       0\n",
       "DSV       90090    0.182617    0.281002       0\n",
       "EXD       59679    0.120972    0.186146       1\n",
       "SOC       29242    0.059275    0.091209       0\n",
       "RDG       12434    0.025204    0.038783       0\n",
       "FI        12223    0.024777    0.038125       0\n",
       "COM        3125    0.006335    0.009747       0\n",
       "VEC        2668    0.005408    0.008322       0"
      ]
     },
     "execution_count": 5,
     "metadata": {},
     "output_type": "execute_result"
    }
   ],
   "source": [
    "results_nuances = data_results.groupby(['Nuance']).sum()[['Voix']].sort_values(by='Voix', ascending=False).copy()\n",
    "\n",
    "results_nuances['% Inscrits'] = 100*results_nuances['Voix']/inscrits\n",
    "results_nuances['% Exprimés'] = 100*results_nuances['Voix']/exprimes\n",
    "results_nuances['Sièges'] = [len(np.where(data_results[data_results['Nuance']==nuance]['Elu(e)']=='OUI')[0]) for nuance in results_nuances.index]\n",
    "results_nuances"
   ]
  },
  {
   "cell_type": "markdown",
   "metadata": {},
   "source": [
    "## Deuxièmes tours"
   ]
  },
  {
   "cell_type": "code",
   "execution_count": 7,
   "metadata": {},
   "outputs": [],
   "source": [
    "nombre_T2 = {code: len(np.where(data_results[data_results['Code circonscription']==code]['Elu(e)']!='NON')[0]) \n",
    "             for code in data_results['Code circonscription']}"
   ]
  },
  {
   "cell_type": "code",
   "execution_count": 16,
   "metadata": {},
   "outputs": [
    {
     "data": {
      "image/png": "[encoded data removed]",
      "text/plain": [
       "<Figure size 600x500 with 1 Axes>"
      ]
     },
     "metadata": {},
     "output_type": "display_data"
    }
   ],
   "source": [
    "fig, ax = plt.subplots(figsize=(6,5))\n",
    "counts, edges, bars = ax.hist(nombre_T2.values(), color='k', bins=4, range=(1,5), align='left', rwidth=0.8)\n",
    "colors = ['r', 'b', 'g', 'm']\n",
    "for i, bar in enumerate(bars):\n",
    "    bar.set_facecolor(colors[i])\n",
    "ax.bar_label(bars)\n",
    "ax.set_ylabel(\"Nombre de circonscriptions\")\n",
    "ax.set_xlabel(\"Nombre de candidats au T2\")\n",
    "plt.show()"
   ]
  },
  {
   "cell_type": "code",
   "execution_count": 17,
   "metadata": {},
   "outputs": [],
   "source": [
    "pd_T2 = pd.DataFrame.from_dict(nombre_T2, orient='index')"
   ]
  },
  {
   "cell_type": "markdown",
   "metadata": {},
   "source": [
    "#### Configurations de duels"
   ]
  },
  {
   "cell_type": "code",
   "execution_count": 18,
   "metadata": {},
   "outputs": [
    {
     "data": {
      "text/plain": [
       "{('RN', 'UG'): 36,\n",
       " ('RN', 'ENS'): 24,\n",
       " ('UG', 'RN'): 23,\n",
       " ('RN', 'LR'): 16,\n",
       " ('UG', 'ENS'): 15,\n",
       " ('ENS', 'UG'): 11,\n",
       " ('DVG', 'RN'): 7,\n",
       " ('RN', 'DVD'): 6,\n",
       " ('DVD', 'RN'): 5,\n",
       " ('REG', 'DVD'): 4,\n",
       " ('UXD', 'UG'): 4,\n",
       " ('UXD', 'ENS'): 4,\n",
       " ('LR', 'UG'): 3,\n",
       " ('REG', 'RN'): 3,\n",
       " ('DVD', 'REG'): 2,\n",
       " ('UG', 'UXD'): 2,\n",
       " ('RN', 'HOR'): 2,\n",
       " ('RN', 'DVC'): 2,\n",
       " ('DVG', 'UG'): 2,\n",
       " ('UG', 'EXD'): 1,\n",
       " ('LR', 'RN'): 1,\n",
       " ('DVD', 'SOC'): 1,\n",
       " ('REG', 'DVC'): 1,\n",
       " ('RN', 'DVG'): 1,\n",
       " ('ECO', 'RN'): 1,\n",
       " ('UG', 'LR'): 1,\n",
       " ('ENS', 'RN'): 1,\n",
       " ('DVC', 'UG'): 1,\n",
       " ('REG', 'REG'): 1,\n",
       " ('DVG', 'SOC'): 1,\n",
       " ('UXD', 'DVD'): 1,\n",
       " ('UG', 'FI'): 1,\n",
       " ('DVC', 'DVD'): 1,\n",
       " ('SOC', 'DVC'): 1,\n",
       " ('LR', 'ENS'): 1,\n",
       " ('DVG', 'DVG'): 1,\n",
       " ('UG', 'DVG'): 1,\n",
       " ('RN', 'REG'): 1}"
      ]
     },
     "execution_count": 18,
     "metadata": {},
     "output_type": "execute_result"
    }
   ],
   "source": [
    "DUEL = {}\n",
    "n_T2 = 2\n",
    "for i in range(len(pd_T2[pd_T2[0]==n_T2])):\n",
    "    circo = data_results[data_results['Code circonscription']==pd_T2[pd_T2[0]==n_T2].index[i]]\n",
    "    DUEL[f\"{circo['Departement'].iloc[0]} {circo['Circonscription'].iloc[0]}\"] = circo[circo['Elu(e)']!='NON']['Nuance'].values\n",
    "duel_types = list(set(tuple(x) for x in np.array(list(DUEL.values()))))\n",
    "duel_counts = {type: 0 for type in duel_types}\n",
    "for duel in [tuple(x) for x in np.array(list(DUEL.values()))]:\n",
    "    duel_counts[duel_types[duel_types.index(duel)]] += 1\n",
    "duel_counts = dict(sorted(duel_counts.items(), key=lambda item: item[1], reverse=True))\n",
    "duel_counts"
   ]
  },
  {
   "cell_type": "markdown",
   "metadata": {},
   "source": [
    "#### Configurations de triangulaires"
   ]
  },
  {
   "cell_type": "code",
   "execution_count": 19,
   "metadata": {},
   "outputs": [
    {
     "data": {
      "text/plain": [
       "{('RN', 'ENS', 'UG'): 51,\n",
       " ('RN', 'UG', 'ENS'): 48,\n",
       " ('UG', 'ENS', 'RN'): 29,\n",
       " ('UG', 'RN', 'ENS'): 24,\n",
       " ('ENS', 'UG', 'RN'): 21,\n",
       " ('ENS', 'RN', 'UG'): 16,\n",
       " ('UXD', 'ENS', 'UG'): 12,\n",
       " ('RN', 'LR', 'UG'): 12,\n",
       " ('UXD', 'UG', 'ENS'): 10,\n",
       " ('LR', 'RN', 'UG'): 9,\n",
       " ('ENS', 'UXD', 'UG'): 6,\n",
       " ('UG', 'ENS', 'UXD'): 5,\n",
       " ('DVD', 'RN', 'UG'): 4,\n",
       " ('UG', 'UXD', 'ENS'): 3,\n",
       " ('UG', 'RN', 'DVD'): 3,\n",
       " ('RN', 'DVD', 'UG'): 3,\n",
       " ('RN', 'UDI', 'UG'): 3,\n",
       " ('RN', 'UG', 'LR'): 3,\n",
       " ('UG', 'RN', 'UDI'): 2,\n",
       " ('UXD', 'LR', 'UG'): 2,\n",
       " ('RN', 'UG', 'HOR'): 2,\n",
       " ('RN', 'UG', 'DVD'): 2,\n",
       " ('HOR', 'RN', 'UG'): 2,\n",
       " ('UG', 'RN', 'DVC'): 2,\n",
       " ('RN', 'HOR', 'UG'): 2,\n",
       " ('UXD', 'UG', 'LR'): 1,\n",
       " ('LR', 'UG', 'RN'): 1,\n",
       " ('UG', 'UXD', 'UDI'): 1,\n",
       " ('ENS', 'UG', 'UXD'): 1,\n",
       " ('UG', 'RN', 'LR'): 1,\n",
       " ('UG', 'UDI', 'RN'): 1,\n",
       " ('RN', 'DIV', 'UG'): 1,\n",
       " ('RN', 'DVG', 'UG'): 1,\n",
       " ('DVD', 'UG', 'RN'): 1,\n",
       " ('UG', 'UDI', 'DVG'): 1,\n",
       " ('UXD', 'DVD', 'UG'): 1,\n",
       " ('UG', 'DSV', 'DVD'): 1,\n",
       " ('ENS', 'LR', 'UG'): 1,\n",
       " ('UG', 'HOR', 'RN'): 1,\n",
       " ('UG', 'ENS', 'DVC'): 1,\n",
       " ('ENS', 'DVD', 'UG'): 1,\n",
       " ('RN', 'DVC', 'UG'): 1,\n",
       " ('RN', 'ENS', 'DVG'): 1,\n",
       " ('DVD', 'REG', 'RN'): 1,\n",
       " ('DVD', 'ENS', 'UG'): 1,\n",
       " ('DVC', 'UG', 'RN'): 1,\n",
       " ('UG', 'RN', 'HOR'): 1,\n",
       " ('ENS', 'LR', 'UXD'): 1,\n",
       " ('UG', 'DIV', 'RN'): 1,\n",
       " ('UXD', 'UG', 'DVD'): 1,\n",
       " ('DVG', 'UG', 'RN'): 1,\n",
       " ('HOR', 'UG', 'RN'): 1,\n",
       " ('RN', 'UG', 'DIV'): 1,\n",
       " ('ENS', 'UG', 'DVD'): 1,\n",
       " ('UG', 'DVG', 'RN'): 1}"
      ]
     },
     "execution_count": 19,
     "metadata": {},
     "output_type": "execute_result"
    }
   ],
   "source": [
    "TRIANGLE = {}\n",
    "n_T2 = 3\n",
    "for i in range(len(pd_T2[pd_T2[0]==n_T2])):\n",
    "    circo = data_results[data_results['Code circonscription']==pd_T2[pd_T2[0]==n_T2].index[i]]\n",
    "    TRIANGLE[f\"{circo['Departement'].iloc[0]} {circo['Circonscription'].iloc[0]}\"] = circo[circo['Elu(e)']!='NON']['Nuance'].values\n",
    "triangle_types = list(set(tuple(x) for x in np.array(list(TRIANGLE.values()))))\n",
    "triangle_counts = {type: 0 for type in triangle_types}\n",
    "for triangle in [tuple(x) for x in np.array(list(TRIANGLE.values()))]:\n",
    "    triangle_counts[triangle_types[triangle_types.index(triangle)]] += 1\n",
    "triangle_counts = dict(sorted(triangle_counts.items(), key=lambda item: item[1], reverse=True))\n",
    "triangle_counts"
   ]
  },
  {
   "cell_type": "markdown",
   "metadata": {},
   "source": [
    "#### Configuration de quandrangulaires"
   ]
  },
  {
   "cell_type": "code",
   "execution_count": 20,
   "metadata": {},
   "outputs": [
    {
     "data": {
      "text/plain": [
       "{('UG', 'DVD', 'ENS', 'RN'): 1,\n",
       " ('RN', 'ENS', 'DVG', 'UG'): 1,\n",
       " ('DVD', 'RN', 'ENS', 'UG'): 1,\n",
       " ('RN', 'UG', 'ENS', 'DVD'): 1,\n",
       " ('RN', 'UG', 'ENS', 'LR'): 1}"
      ]
     },
     "execution_count": 20,
     "metadata": {},
     "output_type": "execute_result"
    }
   ],
   "source": [
    "QUADRANGLE = {}\n",
    "n_T2 = 4\n",
    "for i in range(len(pd_T2[pd_T2[0]==n_T2])):\n",
    "    circo = data_results[data_results['Code circonscription']==pd_T2[pd_T2[0]==n_T2].index[i]]\n",
    "    QUADRANGLE[f\"{circo['Departement'].iloc[0]} {circo['Circonscription'].iloc[0]}\"] = circo[circo['Elu(e)']!='NON']['Nuance'].values\n",
    "quadrangle_types = list(set(tuple(x) for x in np.array(list(QUADRANGLE.values()))))\n",
    "quadrangle_counts = {type: 0 for type in quadrangle_types}\n",
    "for quadrangle in [tuple(x) for x in np.array(list(QUADRANGLE.values()))]:\n",
    "    quadrangle_counts[quadrangle_types[quadrangle_types.index(quadrangle)]] += 1\n",
    "quadrangle_counts = dict(sorted(quadrangle_counts.items(), key=lambda item: item[1], reverse=True))\n",
    "quadrangle_counts"
   ]
  }
 ],
 "metadata": {
  "kernelspec": {
   "display_name": "base",
   "language": "python",
   "name": "python3"
  },
  "language_info": {
   "codemirror_mode": {
    "name": "ipython",
    "version": 3
   },
   "file_extension": ".py",
   "mimetype": "text/x-python",
   "name": "python",
   "nbconvert_exporter": "python",
   "pygments_lexer": "ipython3",
   "version": "3.11.5"
  }
 },
 "nbformat": 4,
 "nbformat_minor": 2
}
