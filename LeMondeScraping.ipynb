{
 "cells": [
  {
   "cell_type": "code",
   "execution_count": 241,
   "metadata": {},
   "outputs": [],
   "source": [
    "import re\n",
    "import pandas as pd\n",
    "import numpy as np"
   ]
  },
  {
   "cell_type": "code",
   "execution_count": 255,
   "metadata": {},
   "outputs": [],
   "source": [
    "# Copie du tableau : https://www.lemonde.fr/les-decodeurs/article/2024/07/02/legislatives-2024-pour-faire-barrage-au-rn-195-candidats-et-candidates-se-sont-deja-desistes-suivez-le-decompte-en-temps-reel_6245837_4355771.html\n",
    "with open(\"LeMonde-Desistement.txt\") as f:\n",
    "    raw = f.read().splitlines()"
   ]
  },
  {
   "cell_type": "code",
   "execution_count": 256,
   "metadata": {},
   "outputs": [],
   "source": [
    "# Renommage pour coller à \"results_legislatives_2024_T1.csv\"\n",
    "raw = [r.replace('Guilaume Roit-Levêque', 'Guillaume Roit-Levêque') for r in raw]\n",
    "raw = [r.replace('Hella Kribi-Romdhane', 'Hella Kribi - Romdhane') for r in raw]"
   ]
  },
  {
   "cell_type": "code",
   "execution_count": 257,
   "metadata": {},
   "outputs": [],
   "source": [
    "# Parsing par circonscription\n",
    "circo = []\n",
    "end = [-1] + list(np.where(np.array(raw)=='Détails')[0])\n",
    "for i in range(len(end)-1):\n",
    "    circo.append(raw[end[i]+1:end[i+1]])"
   ]
  },
  {
   "cell_type": "code",
   "execution_count": 258,
   "metadata": {},
   "outputs": [],
   "source": [
    "# Parsing des noms de circonscription\n",
    "nom_circo = [(c[0], re.sub(\"[^0-9]\", \"\", c[1])) for c in circo]\n",
    "# Renommage pour coller à \"departement_2022.csv\"\n",
    "nom_circo = [(c[0].replace(\"Français de l'étranger\", \"Français établis hors de France\"), c[1]) for c in nom_circo]\n",
    "nom_circo = [(c[0].replace(\"Saint-Martin et Saint-Barthélémy\", \"Saint-Martin/Saint-Barthélemy\"), c[1]) for c in nom_circo]\n",
    "nom_circo = [(c[0].replace(\"Wallis et Futuna\", \"Wallis-et-Futuna\"), c[1]) for c in nom_circo]\n",
    "nom_circo = [(c[0].replace(\"Polynésie française\", \"Polynésie Française\"), c[1]) for c in nom_circo]"
   ]
  },
  {
   "cell_type": "code",
   "execution_count": 259,
   "metadata": {},
   "outputs": [],
   "source": [
    "# Parsing des données par candidat\n",
    "circo_data = {}\n",
    "for i in range(len(circo)):\n",
    "    c = circo[i]\n",
    "    N = len(c[2:])//2\n",
    "    candidats = []\n",
    "    for j in range(N):\n",
    "        candidat = {}\n",
    "        nom = c[j+2+N].replace('désist.','')\n",
    "        candidat['Nom'] = nom\n",
    "        candidat['Nuance'] = c[j+2]\n",
    "        candidat['Desistement'] = ('désist.' in c[j+2+N])\n",
    "        candidats.append(candidat)\n",
    "    circo_data[nom_circo[i]] = candidats"
   ]
  },
  {
   "cell_type": "code",
   "execution_count": 261,
   "metadata": {},
   "outputs": [],
   "source": [
    "# Correspondance avec le tableau \"results_legislatives_2024_T1.csv\"\n",
    "data_gouv = pd.read_csv(\"results_legislatives_2024_T1.csv\", index_col=0)\n",
    "list_candidats = data_gouv['Liste des candidats'].to_list()\n",
    "list_candidats = [' '.join(c.split(' ')[1:]) for c in list_candidats]\n",
    "list_candidats_up = [c.upper() for c in list_candidats]"
   ]
  },
  {
   "cell_type": "code",
   "execution_count": 262,
   "metadata": {},
   "outputs": [],
   "source": [
    "# Ajout de données au tableau \"results_legislatives_2024_T1.csv\" et à la liste du Monde\n",
    "for circo in circo_data:\n",
    "    candidats = circo_data[circo]\n",
    "    for candidat in candidats:\n",
    "        idx = list_candidats_up.index(candidat['Nom'].upper())\n",
    "        data = data_gouv.iloc[idx]\n",
    "        candidat['Nom'] = data['Liste des candidats']\n",
    "        candidat['Voix'] = data['Voix']\n",
    "        candidat['% Inscrits'] = data['% Inscrits']\n",
    "        candidat['% Exprimés'] = data['% Exprimés']\n",
    "        if candidat['Desistement']: data_gouv.loc[idx, 'Elu(e)'] = 'DESISTE'"
   ]
  },
  {
   "cell_type": "code",
   "execution_count": 263,
   "metadata": {},
   "outputs": [],
   "source": [
    "# Sauvegarde du tableau \"results_legislatives_2024_T1.csv\" avec les mentions de Désistement\n",
    "data_gouv.to_csv(\"results_legislatives_2024_T1.csv\")"
   ]
  }
 ],
 "metadata": {
  "kernelspec": {
   "display_name": "base",
   "language": "python",
   "name": "python3"
  },
  "language_info": {
   "codemirror_mode": {
    "name": "ipython",
    "version": 3
   },
   "file_extension": ".py",
   "mimetype": "text/x-python",
   "name": "python",
   "nbconvert_exporter": "python",
   "pygments_lexer": "ipython3",
   "version": "3.11.5"
  }
 },
 "nbformat": 4,
 "nbformat_minor": 2
}
